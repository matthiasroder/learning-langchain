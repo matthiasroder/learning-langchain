{
 "cells": [
  {
   "cell_type": "code",
   "execution_count": null,
   "id": "ee42625c",
   "metadata": {},
   "outputs": [],
   "source": [
    "from langchain.chat_models import ChatOpenAI\n",
    "from langchain.prompts import ChatPromptTemplate\n",
    "from langchain.output_parsers import ResponseSchema\n",
    "from langchain.output_parsers import StructuredOutputParser"
   ]
  },
  {
   "cell_type": "code",
   "execution_count": null,
   "id": "4add38e0",
   "metadata": {},
   "outputs": [],
   "source": [
    "# Here we chose the model and create the llm endpoint through langchain API\n",
    "llm_model = \"gpt-4\"\n",
    "chat = ChatOpenAI(temperature=0.0, model=llm_model)"
   ]
  },
  {
   "cell_type": "code",
   "execution_count": null,
   "id": "138fc999",
   "metadata": {},
   "outputs": [],
   "source": [
    "# First, create schemas for the responses. Think of it as entries in a dictionary\n",
    "place_schema = ResponseSchema(name=\"place\", description=\"The place he lived at.\")\n",
    "work_schema = ResponseSchema(name=\"work\", description=\"One sentence description of what he did there.\")\n",
    "response_schemas=[place_schema, work_schema]"
   ]
  },
  {
   "cell_type": "code",
   "execution_count": null,
   "id": "99171db3",
   "metadata": {},
   "outputs": [],
   "source": [
    "# Then create a parser from the schemas\n",
    "output_parser = StructuredOutputParser.from_response_schemas(response_schemas)"
   ]
  },
  {
   "cell_type": "code",
   "execution_count": null,
   "id": "250d7934",
   "metadata": {},
   "outputs": [],
   "source": [
    "# Now, create the format instructions, which will go in the end of the prompt\n",
    "format_instructions = output_parser.get_format_instructions()\n",
    "print(format_instructions)"
   ]
  },
  {
   "cell_type": "code",
   "execution_count": null,
   "id": "37f51fd1",
   "metadata": {},
   "outputs": [],
   "source": [
    "# Here, we will define the main prompt. Note, that it contains the schema information exactly as given above \n",
    "# as well as two placeholders (text and format_instructions). Format_instructions were defined above. Text is \n",
    "# the input to the prompt given below. \n",
    "bach_template = \"\"\"For the following text on Johann Sebastian Bach, extract the following information:\n",
    "\n",
    "place: The place he lived at.\n",
    "work: One sentence description of what he did there.\n",
    "\n",
    "there might be multiple places mentioned.\n",
    "\n",
    "{text}\n",
    "\n",
    "{format_instructions}\n",
    "\"\"\""
   ]
  },
  {
   "cell_type": "code",
   "execution_count": null,
   "id": "99311aaf",
   "metadata": {},
   "outputs": [],
   "source": [
    "# Now assemble the prompt\n",
    "prompt = ChatPromptTemplate.from_template(template=bach_template)"
   ]
  },
  {
   "cell_type": "code",
   "execution_count": null,
   "id": "032dd3a1",
   "metadata": {},
   "outputs": [],
   "source": [
    "# This is the input text\n",
    "text = \"\"\"Johann Sebastian Bach[n 2] (31 March [O.S. 21 March] 1685 – 28 July 1750) was a German composer and musician of the late Baroque period. He is known for his orchestral music such as the Brandenburg Concertos; instrumental compositions such as the Cello Suites; keyboard works such as the Goldberg Variations and The Well-Tempered Clavier; organ works such as the Schubler Chorales and the Toccata and Fugue in D minor; and vocal music such as the St Matthew Passion and the Mass in B minor. Since the 19th-century Bach revival he has been generally regarded as one of the greatest composers in the history of Western music.[2][3]\n",
    "\n",
    "The Bach family already counted several composers when Johann Sebastian was born as the last child of a city musician, Johann Ambrosia, in Eisenach. After being orphaned at the age of 10, he lived for five years with his eldest brother Johann Christoph, after which he continued his musical education in Lüneburg. From 1703 he was back in Thuringia, working as a musician for Protestant churches in Arnstadt and Mühlhausen and, for longer stretches of time, at courts in Weimar, where he expanded his organ repertory, and Köthen, where he was mostly engaged with chamber music. From 1723, he was employed as Thomaskantor (cantor at St Thomas's) in Leipzig. There he composed music for the principal Lutheran churches of the city, and for its university's student ensemble Collegium Musicum. From 1726, he published some of his keyboard and organ music. In Leipzig, as had happened during some of his earlier positions, he had difficult relations with his employer, a situation that was little remedied when he was granted the title of court composer by his sovereign, Augustus III of Poland, in 1736. In the last decades of his life, he reworked and extended many of his earlier compositions. He died of complications after eye surgery in 1750 at the age of 65.\n",
    "\n",
    "Bach enriched established German styles through his mastery of counterpoint, harmonic, and motivic organisation,[4] and his adaptation of rhythms, forms, and textures from abroad, particularly from Italy and France. Bach's compositions include hundreds of cantatas, both sacred and secular. He composed Latin church music, Passions, oratorios, and motets. He often adopted Lutheran hymns, not only in his larger vocal works, but for instance also in his four-part chorales and his sacred songs. He wrote extensively for organ and for other keyboard instruments. He composed concertos, for instance for violin and for harpsichord, and suites, as chamber music as well as for orchestra. Many of his works employ the genres of canon and fugue.\n",
    "\n",
    "Throughout the 18th century, Bach was primarily valued as an organist, while his keyboard music, such as The Well-Tempered Clavier, was appreciated for its didactic qualities. The 19th century saw the publication of some major Bach biographies, and by the end of that century all of his known music had been printed. Dissemination of scholarship on the composer continued through periodicals (and later also websites) exclusively devoted to him, and other publications such as the Bach-Werke-Verzeichnis (BWV, a numbered catalogue of his works) and new critical editions of his compositions. His music was further popularised through a multitude of arrangements, including the Air on the G String and \"Jesu, Joy of Man's Desiring\", and of recordings, such as three different box sets with complete performances of the composer's oeuvre marking the 250th anniversary of his death. \"\"\"\n",
    "\n"
   ]
  },
  {
   "cell_type": "code",
   "execution_count": null,
   "id": "737584d0",
   "metadata": {},
   "outputs": [],
   "source": [
    "# This is where we create the messages for the llm. They are in the form of messages, because we are working\n",
    "# with a chat model (chatGPT-4)\n",
    "messages = prompt.format_messages(text=text, format_instructions=format_instructions)\n",
    "messages"
   ]
  },
  {
   "cell_type": "code",
   "execution_count": null,
   "id": "d0448f1f",
   "metadata": {},
   "outputs": [],
   "source": [
    "# Finally we are ready to send out messages with the prompt to the model\n",
    "response = chat(messages)\n",
    "print(response.content)"
   ]
  }
 ],
 "metadata": {
  "kernelspec": {
   "display_name": "Python 3 (ipykernel)",
   "language": "python",
   "name": "python3"
  },
  "language_info": {
   "codemirror_mode": {
    "name": "ipython",
    "version": 3
   },
   "file_extension": ".py",
   "mimetype": "text/x-python",
   "name": "python",
   "nbconvert_exporter": "python",
   "pygments_lexer": "ipython3",
   "version": "3.9.17"
  }
 },
 "nbformat": 4,
 "nbformat_minor": 5
}
